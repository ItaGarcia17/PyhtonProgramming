{
  "nbformat": 4,
  "nbformat_minor": 0,
  "metadata": {
    "colab": {
      "provenance": [],
      "toc_visible": true
    },
    "kernelspec": {
      "name": "python3",
      "display_name": "Python 3"
    },
    "language_info": {
      "name": "python"
    }
  },
  "cells": [
    {
      "cell_type": "code",
      "source": [
        "import random\n",
        "\n",
        "def method1(length):\n",
        "\n",
        "    return [random.randint(10, 50) for _ in range(length)]\n",
        "\n",
        "def method2(lst):\n",
        "\n",
        "    return sum(lst)\n",
        "\n",
        "def main():\n",
        "\n",
        "    user_input = int(input(\"Enter an integer number between 5 and 15: \"))\n",
        "\n",
        "    if 5 <= user_input <= 15:\n",
        "        random_list = method1(user_input)\n",
        "\n",
        "        print(\"Randomly generated list:\", random_list)\n",
        "\n",
        "        list_sum = method2(random_list)\n",
        "\n",
        "        print(\"Sum of the elements is:\", list_sum)\n",
        "    else:\n",
        "        print(\"Invalid input. Enter an integer number between 5 and 15.\")\n",
        "\n",
        "if __name__ == \"__main__\":\n",
        "    main()\n"
      ],
      "metadata": {
        "colab": {
          "base_uri": "https://localhost:8080/"
        },
        "id": "U_gloZke4u0Z",
        "outputId": "6eb78e31-e9ab-47d5-bfd9-ce996f078b0e"
      },
      "execution_count": 42,
      "outputs": [
        {
          "output_type": "stream",
          "name": "stdout",
          "text": [
            "Enter an integer number between 5 and 15: 5\n",
            "Randomly generated list: [36, 34, 33, 40, 48]\n",
            "Sum of the elements is: 191\n"
          ]
        }
      ]
    }
  ]
}